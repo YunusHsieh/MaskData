{
  "nbformat": 4,
  "nbformat_minor": 0,
  "metadata": {
    "colab": {
      "provenance": [],
      "authorship_tag": "ABX9TyMtVTPwfqDrwgfEVF9kMEjh",
      "include_colab_link": true
    },
    "kernelspec": {
      "name": "python3",
      "display_name": "Python 3"
    },
    "language_info": {
      "name": "python"
    }
  },
  "cells": [
    {
      "cell_type": "markdown",
      "metadata": {
        "id": "view-in-github",
        "colab_type": "text"
      },
      "source": [
        "<a href=\"https://colab.research.google.com/github/YunusHsieh/MaskData/blob/main/MaskData.ipynb\" target=\"_parent\"><img src=\"https://colab.research.google.com/assets/colab-badge.svg\" alt=\"Open In Colab\"/></a>"
      ]
    },
    {
      "cell_type": "code",
      "execution_count": 3,
      "metadata": {
        "id": "5bTEgaK_RnLz"
      },
      "outputs": [],
      "source": [
        "import requests\n",
        "import json\n",
        "import sqlite3\n",
        "import datetime\n",
        "\n",
        "\n"
      ]
    },
    {
      "cell_type": "code",
      "source": [
        "\n",
        "# 利用 requests 對 API 來源發送一個請求\n",
        "url = 'https://raw.githubusercontent.com/kiang/pharmacies/master/json/points.json'\n",
        "response = requests.get(url)\n",
        "\n",
        "# 將請求回應的內容存成一個字串格式\n",
        "d = response.text\n",
        "\n",
        "# 將長得像 json 格式的字串解析成字典或列表\n",
        "data = json.loads(d)\n"
      ],
      "metadata": {
        "id": "RMmHZ6NXOZsc"
      },
      "execution_count": 4,
      "outputs": []
    },
    {
      "cell_type": "code",
      "source": [
        "med_count = {}\n",
        "\n",
        "# 填入欄位名稱\n",
        "for d in data['features']:\n",
        "    county = d[\"properties\"][\"county\"]\n",
        "    if county not in med_count:\n",
        "         med_count[county] = 0\n",
        "    med_count[county]+=1\n",
        "\n",
        "print(med_count)\n",
        "\n"
      ],
      "metadata": {
        "colab": {
          "base_uri": "https://localhost:8080/"
        },
        "id": "udp6gaIkNpzx",
        "outputId": "fa015b5b-19c1-420d-aac7-fb7c04249262"
      },
      "execution_count": 7,
      "outputs": [
        {
          "output_type": "stream",
          "name": "stdout",
          "text": [
            "{'臺北市': 339, '': 49, '高雄市': 422, '臺中市': 420, '臺南市': 271, '基隆市': 57, '新竹市': 39, '嘉義市': 67, '新北市': 501, '桃園市': 264, '新竹縣': 46, '宜蘭縣': 76, '苗栗縣': 56, '彰化縣': 179, '南投縣': 67, '雲林縣': 129, '嘉義縣': 84, '屏東縣': 140, '澎湖縣': 11, '花蓮縣': 46, '臺東縣': 23, '金門縣': 6, '連江縣': 1}\n"
          ]
        }
      ]
    },
    {
      "cell_type": "code",
      "source": [
        "conn = sqlite3.connect('example.db')\n",
        "c = conn.cursor()\n",
        "\n",
        "# 新增且清空資料表\n",
        "c.execute('''CREATE TABLE IF NOT EXISTS pharmacies\n",
        "             (city text, counts text, createdAt datetime)''')\n",
        "c.execute('''DELETE FROM pharmacies''')\n",
        "conn.commit()\n",
        "\n",
        "# 新增資料\n",
        "'''\n",
        "Your Code # 把收集資料部分放在這邊\n",
        "'''\n",
        "for city, counts in med_count.items():\n",
        "  \n",
        "  # 將每一筆資料分別取出來新增到資料庫\n",
        "  \n",
        "  t = datetime.datetime.now()\n",
        "  \n",
        "  print(f\"INSERT INTO stocks VALUES ('{city}', {counts}, '{t}')\")\n",
        "  c.execute(f\"INSERT INTO pharmacies VALUES ('{city}', {counts}, '{t}')\")\n",
        "  conn.commit()\n",
        "\n",
        "# 查詢資料\n",
        "c.execute(\"SELECT * FROM pharmacies\")\n",
        "print(c.fetchall())\n",
        "\n",
        "conn.commit()\n",
        "conn.close()"
      ],
      "metadata": {
        "colab": {
          "base_uri": "https://localhost:8080/"
        },
        "id": "pqlSJdr8OcAK",
        "outputId": "2177a2b0-bc06-4530-f98d-3a02e634e766"
      },
      "execution_count": 6,
      "outputs": [
        {
          "output_type": "stream",
          "name": "stdout",
          "text": [
            "INSERT INTO stocks VALUES ('臺北市', 339, '2023-03-30 02:04:53.299855')\n",
            "INSERT INTO stocks VALUES ('', 49, '2023-03-30 02:04:53.309459')\n",
            "INSERT INTO stocks VALUES ('高雄市', 422, '2023-03-30 02:04:53.318974')\n",
            "INSERT INTO stocks VALUES ('臺中市', 420, '2023-03-30 02:04:53.328593')\n",
            "INSERT INTO stocks VALUES ('臺南市', 271, '2023-03-30 02:04:53.337508')\n",
            "INSERT INTO stocks VALUES ('基隆市', 57, '2023-03-30 02:04:53.346494')\n",
            "INSERT INTO stocks VALUES ('新竹市', 39, '2023-03-30 02:04:53.355844')\n",
            "INSERT INTO stocks VALUES ('嘉義市', 67, '2023-03-30 02:04:53.364949')\n",
            "INSERT INTO stocks VALUES ('新北市', 501, '2023-03-30 02:04:53.374412')\n",
            "INSERT INTO stocks VALUES ('桃園市', 264, '2023-03-30 02:04:53.382918')\n",
            "INSERT INTO stocks VALUES ('新竹縣', 46, '2023-03-30 02:04:53.392268')\n",
            "INSERT INTO stocks VALUES ('宜蘭縣', 76, '2023-03-30 02:04:53.401108')\n",
            "INSERT INTO stocks VALUES ('苗栗縣', 56, '2023-03-30 02:04:53.410028')\n",
            "INSERT INTO stocks VALUES ('彰化縣', 179, '2023-03-30 02:04:53.418898')\n",
            "INSERT INTO stocks VALUES ('南投縣', 67, '2023-03-30 02:04:53.428550')\n",
            "INSERT INTO stocks VALUES ('雲林縣', 129, '2023-03-30 02:04:53.436817')\n",
            "INSERT INTO stocks VALUES ('嘉義縣', 84, '2023-03-30 02:04:53.446217')\n",
            "INSERT INTO stocks VALUES ('屏東縣', 140, '2023-03-30 02:04:53.454706')\n",
            "INSERT INTO stocks VALUES ('澎湖縣', 11, '2023-03-30 02:04:53.462917')\n",
            "INSERT INTO stocks VALUES ('花蓮縣', 46, '2023-03-30 02:04:53.472129')\n",
            "INSERT INTO stocks VALUES ('臺東縣', 23, '2023-03-30 02:04:53.482500')\n",
            "INSERT INTO stocks VALUES ('金門縣', 6, '2023-03-30 02:04:53.491972')\n",
            "INSERT INTO stocks VALUES ('連江縣', 1, '2023-03-30 02:04:53.500765')\n",
            "[('臺北市', '339', '2023-03-30 02:04:53.299855'), ('', '49', '2023-03-30 02:04:53.309459'), ('高雄市', '422', '2023-03-30 02:04:53.318974'), ('臺中市', '420', '2023-03-30 02:04:53.328593'), ('臺南市', '271', '2023-03-30 02:04:53.337508'), ('基隆市', '57', '2023-03-30 02:04:53.346494'), ('新竹市', '39', '2023-03-30 02:04:53.355844'), ('嘉義市', '67', '2023-03-30 02:04:53.364949'), ('新北市', '501', '2023-03-30 02:04:53.374412'), ('桃園市', '264', '2023-03-30 02:04:53.382918'), ('新竹縣', '46', '2023-03-30 02:04:53.392268'), ('宜蘭縣', '76', '2023-03-30 02:04:53.401108'), ('苗栗縣', '56', '2023-03-30 02:04:53.410028'), ('彰化縣', '179', '2023-03-30 02:04:53.418898'), ('南投縣', '67', '2023-03-30 02:04:53.428550'), ('雲林縣', '129', '2023-03-30 02:04:53.436817'), ('嘉義縣', '84', '2023-03-30 02:04:53.446217'), ('屏東縣', '140', '2023-03-30 02:04:53.454706'), ('澎湖縣', '11', '2023-03-30 02:04:53.462917'), ('花蓮縣', '46', '2023-03-30 02:04:53.472129'), ('臺東縣', '23', '2023-03-30 02:04:53.482500'), ('金門縣', '6', '2023-03-30 02:04:53.491972'), ('連江縣', '1', '2023-03-30 02:04:53.500765')]\n"
          ]
        }
      ]
    },
    {
      "cell_type": "code",
      "source": [
        "# 填入欄位名稱\n",
        "mask_count = {}\n",
        "for d in data['features']:\n",
        "    county = d[\"properties\"][\"county\"]\n",
        "    if county not in mask_count:\n",
        "         mask_count[county] = 0\n",
        "    mask_count[county]+=d[\"properties\"][\"mask_adult\"]       \n",
        "\n",
        "\n",
        "# 將結果從大到小排列\n",
        "mask_count = dict(sorted( mask_count.items(), key=lambda item: item[1]))\n",
        "\n",
        "print(mask_count)"
      ],
      "metadata": {
        "colab": {
          "base_uri": "https://localhost:8080/"
        },
        "id": "fAhAPfQo0fUj",
        "outputId": "5eb25c46-c9bb-4a2f-f9fb-4288e0135826"
      },
      "execution_count": null,
      "outputs": [
        {
          "output_type": "stream",
          "name": "stdout",
          "text": [
            "{'連江縣': 7930, '澎湖縣': 12600, '金門縣': 15510, '臺東縣': 28510, '新竹市': 45630, '新竹縣': 51350, '花蓮縣': 57330, '': 69210, '基隆市': 80100, '南投縣': 91240, '宜蘭縣': 106900, '嘉義市': 107840, '嘉義縣': 113180, '苗栗縣': 131080, '屏東縣': 184250, '雲林縣': 196990, '彰化縣': 219400, '臺北市': 322490, '桃園市': 331940, '臺南市': 393900, '高雄市': 424170, '臺中市': 536710, '新北市': 670270}\n"
          ]
        }
      ]
    }
  ]
}