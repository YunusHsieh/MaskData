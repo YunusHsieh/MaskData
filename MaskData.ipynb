{
  "nbformat": 4,
  "nbformat_minor": 0,
  "metadata": {
    "colab": {
      "provenance": [],
      "authorship_tag": "ABX9TyPFHi3v6bh9g7G+ZMBFegnK",
      "include_colab_link": true
    },
    "kernelspec": {
      "name": "python3",
      "display_name": "Python 3"
    },
    "language_info": {
      "name": "python"
    }
  },
  "cells": [
    {
      "cell_type": "markdown",
      "metadata": {
        "id": "view-in-github",
        "colab_type": "text"
      },
      "source": [
        "<a href=\"https://colab.research.google.com/github/YunusHsieh/MaskData/blob/main/MaskData.ipynb\" target=\"_parent\"><img src=\"https://colab.research.google.com/assets/colab-badge.svg\" alt=\"Open In Colab\"/></a>"
      ]
    },
    {
      "cell_type": "code",
      "execution_count": 2,
      "metadata": {
        "id": "5bTEgaK_RnLz",
        "colab": {
          "base_uri": "https://localhost:8080/"
        },
        "outputId": "9f059ee1-839a-4515-ca53-01e1e7950ebf"
      },
      "outputs": [
        {
          "output_type": "stream",
          "name": "stderr",
          "text": [
            "IOPub data rate exceeded.\n",
            "The notebook server will temporarily stop sending output\n",
            "to the client in order to avoid crashing it.\n",
            "To change this limit, set the config variable\n",
            "`--NotebookApp.iopub_data_rate_limit`.\n",
            "\n",
            "Current values:\n",
            "NotebookApp.iopub_data_rate_limit=1000000.0 (bytes/sec)\n",
            "NotebookApp.rate_limit_window=3.0 (secs)\n",
            "\n"
          ]
        }
      ],
      "source": [
        "import requests\n",
        "import json\n",
        "\n",
        "\n",
        "# 利用 requests 對 API 來源發送一個請求\n",
        "url = 'https://raw.githubusercontent.com/kiang/pharmacies/master/json/points.json'\n",
        "response = requests.get(url)\n",
        "\n",
        "# 將請求回應的內容存成一個字串格式\n",
        "d = response.text\n",
        "\n",
        "# 將長得像 json 格式的字串解析成字典或列表\n",
        "data = json.loads(d)\n",
        "\n",
        "print(data)"
      ]
    },
    {
      "cell_type": "code",
      "source": [
        "# 填入欄位名稱\n",
        "mask_count = {}\n",
        "for d in data['features']:\n",
        "    county = d[\"properties\"][\"county\"]\n",
        "    if county not in mask_count:\n",
        "         mask_count[county] = 0\n",
        "    mask_count[county]+=d[\"properties\"][\"mask_adult\"]       \n",
        "\n",
        "\n",
        "# 將結果從大到小排列\n",
        "mask_count = dict(sorted( mask_count.items(), key=lambda item: item[1]))\n",
        "\n",
        "print(mask_count)"
      ],
      "metadata": {
        "colab": {
          "base_uri": "https://localhost:8080/"
        },
        "id": "fAhAPfQo0fUj",
        "outputId": "5eb25c46-c9bb-4a2f-f9fb-4288e0135826"
      },
      "execution_count": 5,
      "outputs": [
        {
          "output_type": "stream",
          "name": "stdout",
          "text": [
            "{'連江縣': 7930, '澎湖縣': 12600, '金門縣': 15510, '臺東縣': 28510, '新竹市': 45630, '新竹縣': 51350, '花蓮縣': 57330, '': 69210, '基隆市': 80100, '南投縣': 91240, '宜蘭縣': 106900, '嘉義市': 107840, '嘉義縣': 113180, '苗栗縣': 131080, '屏東縣': 184250, '雲林縣': 196990, '彰化縣': 219400, '臺北市': 322490, '桃園市': 331940, '臺南市': 393900, '高雄市': 424170, '臺中市': 536710, '新北市': 670270}\n"
          ]
        }
      ]
    }
  ]
}